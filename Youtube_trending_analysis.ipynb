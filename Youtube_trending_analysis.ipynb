{
  "cells": [
    {
      "cell_type": "code",
      "execution_count": 6,
      "metadata": {
        "id": "B9bEwBWyWqO8"
      },
      "outputs": [
        {
          "name": "stdout",
          "output_type": "stream",
          "text": [
            "Requirement already satisfied: mysql-connector-python in c:\\users\\hp\\appdata\\local\\programs\\python\\python311\\lib\\site-packages (8.1.0)\n",
            "Requirement already satisfied: protobuf<=4.21.12,>=4.21.1 in c:\\users\\hp\\appdata\\local\\programs\\python\\python311\\lib\\site-packages (from mysql-connector-python) (4.21.12)\n",
            "Note: you may need to restart the kernel to use updated packages.\n"
          ]
        },
        {
          "name": "stderr",
          "output_type": "stream",
          "text": [
            "\n",
            "[notice] A new release of pip available: 22.3.1 -> 23.2.1\n",
            "[notice] To update, run: python.exe -m pip install --upgrade pip\n"
          ]
        }
      ],
      "source": [
        "pip install mysql-connector-python\n"
      ]
    },
    {
      "cell_type": "code",
      "execution_count": 7,
      "metadata": {},
      "outputs": [
        {
          "name": "stdout",
          "output_type": "stream",
          "text": [
            "Collecting pandasNote: you may need to restart the kernel to use updated packages.\n",
            "\n",
            "  Downloading pandas-2.0.3-cp311-cp311-win_amd64.whl (10.6 MB)\n",
            "     -------------------------------------- 10.6/10.6 MB 502.0 kB/s eta 0:00:00\n",
            "Collecting numpy\n",
            "  Downloading numpy-1.25.2-cp311-cp311-win_amd64.whl (15.5 MB)\n",
            "     -------------------------------------- 15.5/15.5 MB 469.3 kB/s eta 0:00:00\n",
            "Requirement already satisfied: python-dateutil>=2.8.2 in c:\\users\\hp\\appdata\\roaming\\python\\python311\\site-packages (from pandas) (2.8.2)\n",
            "Collecting pytz>=2020.1\n",
            "  Using cached pytz-2023.3-py2.py3-none-any.whl (502 kB)\n",
            "Collecting tzdata>=2022.1\n",
            "  Using cached tzdata-2023.3-py2.py3-none-any.whl (341 kB)\n",
            "Requirement already satisfied: six>=1.5 in c:\\users\\hp\\appdata\\roaming\\python\\python311\\site-packages (from python-dateutil>=2.8.2->pandas) (1.16.0)\n",
            "Installing collected packages: pytz, tzdata, numpy, pandas\n",
            "Successfully installed numpy-1.25.2 pandas-2.0.3 pytz-2023.3 tzdata-2023.3\n"
          ]
        },
        {
          "name": "stderr",
          "output_type": "stream",
          "text": [
            "\n",
            "[notice] A new release of pip available: 22.3.1 -> 23.2.1\n",
            "[notice] To update, run: python.exe -m pip install --upgrade pip\n"
          ]
        }
      ],
      "source": [
        "pip install pandas numpy"
      ]
    },
    {
      "cell_type": "code",
      "execution_count": 8,
      "metadata": {},
      "outputs": [],
      "source": [
        "import zipfile\n",
        "import numpy as np\n",
        "import pandas as pd\n"
      ]
    },
    {
      "cell_type": "code",
      "execution_count": null,
      "metadata": {},
      "outputs": [],
      "source": []
    },
    {
      "cell_type": "code",
      "execution_count": 13,
      "metadata": {
        "colab": {
          "base_uri": "https://localhost:8080/"
        },
        "id": "Wcb5BVYEW7kc",
        "outputId": "5bf70b8a-4e5b-46c3-9cc4-0491885b0020"
      },
      "outputs": [],
      "source": [
        "#path = '/content/archive.zip'\n",
        "#from google.colab import drive\n",
        "#drive.mount('/content/drive/')\n",
        "\n",
        "path=r'D:\\Youtube analysis\\archive.zip'"
      ]
    },
    {
      "cell_type": "code",
      "execution_count": 10,
      "metadata": {
        "id": "svGTwtNdX2Q3"
      },
      "outputs": [],
      "source": [
        "def file_extract(path_of_file):\n",
        "  csv_files=[]\n",
        "  json_files=[]\n",
        "\n",
        "  with zipfile.ZipFile(path,mode=\"r\") as archive:\n",
        "    for filename in archive.namelist():\n",
        "      file_ext = filename[filename.index(\".\")+1:]\n",
        "      if file_ext == \"csv\":\n",
        "        df = pd.read_csv(archive.open(filename),encoding = \"latin-1\")\n",
        "        df[\"region\"]=filename[0:2]\n",
        "        csv_files.append(df);\n",
        "      elif file_ext == \"json\":\n",
        "        df_region = pd.read_json(archive.open(filename))\n",
        "        df_id = pd.read_json((df_region)['items'].to_json(), orient='index')['id']\n",
        "        df_category_title = pd.read_json(pd.read_json(df_region['items'].to_json(), orient='index')['snippet'].to_json(), orient='index')['title']\n",
        "        data = {'category_id' : df_id, 'category_title': df_category_title}\n",
        "        df = pd.concat(data,axis=1)\n",
        "        df[\"region\"]=filename[0:2]\n",
        "        json_files.append(df)\n",
        "  return pd.concat(csv_files,ignore_index=True),pd.concat(json_files,ignore_index=True)\n"
      ]
    },
    {
      "cell_type": "code",
      "execution_count": 15,
      "metadata": {
        "id": "KIZGfTKPhi4C"
      },
      "outputs": [],
      "source": [
        "df_region,df_category = file_extract(path)"
      ]
    },
    {
      "cell_type": "code",
      "execution_count": 16,
      "metadata": {
        "colab": {
          "base_uri": "https://localhost:8080/",
          "height": 206
        },
        "id": "HNezHFRviD1J",
        "outputId": "8e876cb3-e205-4b77-b2c1-851a62f1363b"
      },
      "outputs": [
        {
          "data": {
            "text/html": [
              "<div>\n",
              "<style scoped>\n",
              "    .dataframe tbody tr th:only-of-type {\n",
              "        vertical-align: middle;\n",
              "    }\n",
              "\n",
              "    .dataframe tbody tr th {\n",
              "        vertical-align: top;\n",
              "    }\n",
              "\n",
              "    .dataframe thead th {\n",
              "        text-align: right;\n",
              "    }\n",
              "</style>\n",
              "<table border=\"1\" class=\"dataframe\">\n",
              "  <thead>\n",
              "    <tr style=\"text-align: right;\">\n",
              "      <th></th>\n",
              "      <th>category_id</th>\n",
              "      <th>category_title</th>\n",
              "      <th>region</th>\n",
              "    </tr>\n",
              "  </thead>\n",
              "  <tbody>\n",
              "    <tr>\n",
              "      <th>0</th>\n",
              "      <td>1</td>\n",
              "      <td>Film &amp; Animation</td>\n",
              "      <td>CA</td>\n",
              "    </tr>\n",
              "    <tr>\n",
              "      <th>1</th>\n",
              "      <td>2</td>\n",
              "      <td>Autos &amp; Vehicles</td>\n",
              "      <td>CA</td>\n",
              "    </tr>\n",
              "    <tr>\n",
              "      <th>2</th>\n",
              "      <td>10</td>\n",
              "      <td>Music</td>\n",
              "      <td>CA</td>\n",
              "    </tr>\n",
              "    <tr>\n",
              "      <th>3</th>\n",
              "      <td>15</td>\n",
              "      <td>Pets &amp; Animals</td>\n",
              "      <td>CA</td>\n",
              "    </tr>\n",
              "    <tr>\n",
              "      <th>4</th>\n",
              "      <td>17</td>\n",
              "      <td>Sports</td>\n",
              "      <td>CA</td>\n",
              "    </tr>\n",
              "  </tbody>\n",
              "</table>\n",
              "</div>"
            ],
            "text/plain": [
              "   category_id    category_title region\n",
              "0            1  Film & Animation     CA\n",
              "1            2  Autos & Vehicles     CA\n",
              "2           10             Music     CA\n",
              "3           15    Pets & Animals     CA\n",
              "4           17            Sports     CA"
            ]
          },
          "execution_count": 16,
          "metadata": {},
          "output_type": "execute_result"
        }
      ],
      "source": [
        "df_region.head()\n",
        "df_category.head()\n"
      ]
    },
    {
      "cell_type": "code",
      "execution_count": 17,
      "metadata": {
        "id": "HX1EhE5WjMuu"
      },
      "outputs": [],
      "source": [
        "combined_df = pd.merge(df_region,df_category,on=[\"region\",\"category_id\"],how=\"left\")"
      ]
    },
    {
      "cell_type": "code",
      "execution_count": 18,
      "metadata": {
        "id": "MwNmrvWTjfMn"
      },
      "outputs": [],
      "source": [
        "combined_df_without_null = combined_df[~pd.isnull(combined_df['category_title'])]"
      ]
    },
    {
      "cell_type": "code",
      "execution_count": 19,
      "metadata": {
        "colab": {
          "base_uri": "https://localhost:8080/",
          "height": 573
        },
        "id": "IJUmMuEpqc8W",
        "outputId": "b7e1dd7c-1fb2-4aae-8932-0bfb1dd2c5a8"
      },
      "outputs": [
        {
          "data": {
            "text/html": [
              "<div>\n",
              "<style scoped>\n",
              "    .dataframe tbody tr th:only-of-type {\n",
              "        vertical-align: middle;\n",
              "    }\n",
              "\n",
              "    .dataframe tbody tr th {\n",
              "        vertical-align: top;\n",
              "    }\n",
              "\n",
              "    .dataframe thead th {\n",
              "        text-align: right;\n",
              "    }\n",
              "</style>\n",
              "<table border=\"1\" class=\"dataframe\">\n",
              "  <thead>\n",
              "    <tr style=\"text-align: right;\">\n",
              "      <th></th>\n",
              "      <th>video_id</th>\n",
              "      <th>trending_date</th>\n",
              "      <th>title</th>\n",
              "      <th>channel_title</th>\n",
              "      <th>category_id</th>\n",
              "      <th>publish_time</th>\n",
              "      <th>tags</th>\n",
              "      <th>views</th>\n",
              "      <th>likes</th>\n",
              "      <th>dislikes</th>\n",
              "      <th>comment_count</th>\n",
              "      <th>thumbnail_link</th>\n",
              "      <th>comments_disabled</th>\n",
              "      <th>ratings_disabled</th>\n",
              "      <th>video_error_or_removed</th>\n",
              "      <th>description</th>\n",
              "      <th>region</th>\n",
              "      <th>category_title</th>\n",
              "    </tr>\n",
              "  </thead>\n",
              "  <tbody>\n",
              "    <tr>\n",
              "      <th>0</th>\n",
              "      <td>n1WpP7iowLc</td>\n",
              "      <td>17.14.11</td>\n",
              "      <td>Eminem - Walk On Water (Audio) ft. BeyoncÃ©</td>\n",
              "      <td>EminemVEVO</td>\n",
              "      <td>10</td>\n",
              "      <td>2017-11-10T17:00:03.000Z</td>\n",
              "      <td>Eminem|\"Walk\"|\"On\"|\"Water\"|\"Aftermath/Shady/In...</td>\n",
              "      <td>17158579</td>\n",
              "      <td>787425</td>\n",
              "      <td>43420</td>\n",
              "      <td>125882</td>\n",
              "      <td>https://i.ytimg.com/vi/n1WpP7iowLc/default.jpg</td>\n",
              "      <td>False</td>\n",
              "      <td>False</td>\n",
              "      <td>False</td>\n",
              "      <td>Eminem's new track Walk on Water ft. BeyoncÃ© ...</td>\n",
              "      <td>CA</td>\n",
              "      <td>Music</td>\n",
              "    </tr>\n",
              "    <tr>\n",
              "      <th>1</th>\n",
              "      <td>0dBIkQ4Mz1M</td>\n",
              "      <td>17.14.11</td>\n",
              "      <td>PLUSH - Bad Unboxing Fan Mail</td>\n",
              "      <td>iDubbbzTV</td>\n",
              "      <td>23</td>\n",
              "      <td>2017-11-13T17:00:00.000Z</td>\n",
              "      <td>plush|\"bad unboxing\"|\"unboxing\"|\"fan mail\"|\"id...</td>\n",
              "      <td>1014651</td>\n",
              "      <td>127794</td>\n",
              "      <td>1688</td>\n",
              "      <td>13030</td>\n",
              "      <td>https://i.ytimg.com/vi/0dBIkQ4Mz1M/default.jpg</td>\n",
              "      <td>False</td>\n",
              "      <td>False</td>\n",
              "      <td>False</td>\n",
              "      <td>STill got a lot of packages. Probably will las...</td>\n",
              "      <td>CA</td>\n",
              "      <td>Comedy</td>\n",
              "    </tr>\n",
              "    <tr>\n",
              "      <th>2</th>\n",
              "      <td>5qpjK5DgCt4</td>\n",
              "      <td>17.14.11</td>\n",
              "      <td>Racist Superman | Rudy Mancuso, King Bach &amp; Le...</td>\n",
              "      <td>Rudy Mancuso</td>\n",
              "      <td>23</td>\n",
              "      <td>2017-11-12T19:05:24.000Z</td>\n",
              "      <td>racist superman|\"rudy\"|\"mancuso\"|\"king\"|\"bach\"...</td>\n",
              "      <td>3191434</td>\n",
              "      <td>146035</td>\n",
              "      <td>5339</td>\n",
              "      <td>8181</td>\n",
              "      <td>https://i.ytimg.com/vi/5qpjK5DgCt4/default.jpg</td>\n",
              "      <td>False</td>\n",
              "      <td>False</td>\n",
              "      <td>False</td>\n",
              "      <td>WATCH MY PREVIOUS VIDEO â¶ \\n\\nSUBSCRIBE âº ...</td>\n",
              "      <td>CA</td>\n",
              "      <td>Comedy</td>\n",
              "    </tr>\n",
              "    <tr>\n",
              "      <th>3</th>\n",
              "      <td>d380meD0W0M</td>\n",
              "      <td>17.14.11</td>\n",
              "      <td>I Dare You: GOING BALD!?</td>\n",
              "      <td>nigahiga</td>\n",
              "      <td>24</td>\n",
              "      <td>2017-11-12T18:01:41.000Z</td>\n",
              "      <td>ryan|\"higa\"|\"higatv\"|\"nigahiga\"|\"i dare you\"|\"...</td>\n",
              "      <td>2095828</td>\n",
              "      <td>132239</td>\n",
              "      <td>1989</td>\n",
              "      <td>17518</td>\n",
              "      <td>https://i.ytimg.com/vi/d380meD0W0M/default.jpg</td>\n",
              "      <td>False</td>\n",
              "      <td>False</td>\n",
              "      <td>False</td>\n",
              "      <td>I know it's been a while since we did this sho...</td>\n",
              "      <td>CA</td>\n",
              "      <td>Entertainment</td>\n",
              "    </tr>\n",
              "    <tr>\n",
              "      <th>4</th>\n",
              "      <td>2Vv-BfVoq4g</td>\n",
              "      <td>17.14.11</td>\n",
              "      <td>Ed Sheeran - Perfect (Official Music Video)</td>\n",
              "      <td>Ed Sheeran</td>\n",
              "      <td>10</td>\n",
              "      <td>2017-11-09T11:04:14.000Z</td>\n",
              "      <td>edsheeran|\"ed sheeran\"|\"acoustic\"|\"live\"|\"cove...</td>\n",
              "      <td>33523622</td>\n",
              "      <td>1634130</td>\n",
              "      <td>21082</td>\n",
              "      <td>85067</td>\n",
              "      <td>https://i.ytimg.com/vi/2Vv-BfVoq4g/default.jpg</td>\n",
              "      <td>False</td>\n",
              "      <td>False</td>\n",
              "      <td>False</td>\n",
              "      <td>ð§: https://ad.gt/yt-perfect\\nð°: https://...</td>\n",
              "      <td>CA</td>\n",
              "      <td>Music</td>\n",
              "    </tr>\n",
              "  </tbody>\n",
              "</table>\n",
              "</div>"
            ],
            "text/plain": [
              "      video_id trending_date  \\\n",
              "0  n1WpP7iowLc      17.14.11   \n",
              "1  0dBIkQ4Mz1M      17.14.11   \n",
              "2  5qpjK5DgCt4      17.14.11   \n",
              "3  d380meD0W0M      17.14.11   \n",
              "4  2Vv-BfVoq4g      17.14.11   \n",
              "\n",
              "                                               title channel_title  \\\n",
              "0        Eminem - Walk On Water (Audio) ft. BeyoncÃ©    EminemVEVO   \n",
              "1                      PLUSH - Bad Unboxing Fan Mail     iDubbbzTV   \n",
              "2  Racist Superman | Rudy Mancuso, King Bach & Le...  Rudy Mancuso   \n",
              "3                           I Dare You: GOING BALD!?      nigahiga   \n",
              "4        Ed Sheeran - Perfect (Official Music Video)    Ed Sheeran   \n",
              "\n",
              "   category_id              publish_time  \\\n",
              "0           10  2017-11-10T17:00:03.000Z   \n",
              "1           23  2017-11-13T17:00:00.000Z   \n",
              "2           23  2017-11-12T19:05:24.000Z   \n",
              "3           24  2017-11-12T18:01:41.000Z   \n",
              "4           10  2017-11-09T11:04:14.000Z   \n",
              "\n",
              "                                                tags     views    likes  \\\n",
              "0  Eminem|\"Walk\"|\"On\"|\"Water\"|\"Aftermath/Shady/In...  17158579   787425   \n",
              "1  plush|\"bad unboxing\"|\"unboxing\"|\"fan mail\"|\"id...   1014651   127794   \n",
              "2  racist superman|\"rudy\"|\"mancuso\"|\"king\"|\"bach\"...   3191434   146035   \n",
              "3  ryan|\"higa\"|\"higatv\"|\"nigahiga\"|\"i dare you\"|\"...   2095828   132239   \n",
              "4  edsheeran|\"ed sheeran\"|\"acoustic\"|\"live\"|\"cove...  33523622  1634130   \n",
              "\n",
              "   dislikes  comment_count                                  thumbnail_link  \\\n",
              "0     43420         125882  https://i.ytimg.com/vi/n1WpP7iowLc/default.jpg   \n",
              "1      1688          13030  https://i.ytimg.com/vi/0dBIkQ4Mz1M/default.jpg   \n",
              "2      5339           8181  https://i.ytimg.com/vi/5qpjK5DgCt4/default.jpg   \n",
              "3      1989          17518  https://i.ytimg.com/vi/d380meD0W0M/default.jpg   \n",
              "4     21082          85067  https://i.ytimg.com/vi/2Vv-BfVoq4g/default.jpg   \n",
              "\n",
              "   comments_disabled  ratings_disabled  video_error_or_removed  \\\n",
              "0              False             False                   False   \n",
              "1              False             False                   False   \n",
              "2              False             False                   False   \n",
              "3              False             False                   False   \n",
              "4              False             False                   False   \n",
              "\n",
              "                                         description region category_title  \n",
              "0  Eminem's new track Walk on Water ft. BeyoncÃ© ...     CA          Music  \n",
              "1  STill got a lot of packages. Probably will las...     CA         Comedy  \n",
              "2  WATCH MY PREVIOUS VIDEO â¶ \\n\\nSUBSCRIBE âº ...     CA         Comedy  \n",
              "3  I know it's been a while since we did this sho...     CA  Entertainment  \n",
              "4  ð§: https://ad.gt/yt-perfect\\nð°: https://...     CA          Music  "
            ]
          },
          "execution_count": 19,
          "metadata": {},
          "output_type": "execute_result"
        }
      ],
      "source": [
        "combined_df_without_null.head()"
      ]
    },
    {
      "cell_type": "code",
      "execution_count": 20,
      "metadata": {
        "id": "ZqVt02w5qlGY"
      },
      "outputs": [],
      "source": [
        "columns_drop = [\"title\",\"tags\",\"thumbnail_link\",\"description\"]"
      ]
    },
    {
      "cell_type": "code",
      "execution_count": 21,
      "metadata": {
        "id": "m6aOFP_QqvqX"
      },
      "outputs": [],
      "source": [
        "combine_df_clean = combined_df_without_null.drop(columns=columns_drop)"
      ]
    },
    {
      "cell_type": "code",
      "execution_count": 24,
      "metadata": {
        "id": "UBZxuRgXq426"
      },
      "outputs": [],
      "source": [
        "#import os\n",
        "#os.makedirs('D/Youtube analysis', exist_ok=True)\n",
        "combine_df_clean.to_csv(r'D:\\Youtube analysis\\clean.csv',index = False)"
      ]
    },
    {
      "cell_type": "code",
      "execution_count": 26,
      "metadata": {
        "colab": {
          "base_uri": "https://localhost:8080/",
          "height": 226
        },
        "id": "jAxX14SJusw_",
        "outputId": "a9fd0e45-75a4-48ab-96c5-d648925ff5f6"
      },
      "outputs": [
        {
          "data": {
            "text/html": [
              "<div>\n",
              "<style scoped>\n",
              "    .dataframe tbody tr th:only-of-type {\n",
              "        vertical-align: middle;\n",
              "    }\n",
              "\n",
              "    .dataframe tbody tr th {\n",
              "        vertical-align: top;\n",
              "    }\n",
              "\n",
              "    .dataframe thead th {\n",
              "        text-align: right;\n",
              "    }\n",
              "</style>\n",
              "<table border=\"1\" class=\"dataframe\">\n",
              "  <thead>\n",
              "    <tr style=\"text-align: right;\">\n",
              "      <th></th>\n",
              "      <th>video_id</th>\n",
              "      <th>trending_date</th>\n",
              "      <th>channel_title</th>\n",
              "      <th>category_id</th>\n",
              "      <th>publish_time</th>\n",
              "      <th>views</th>\n",
              "      <th>likes</th>\n",
              "      <th>dislikes</th>\n",
              "      <th>comment_count</th>\n",
              "      <th>comments_disabled</th>\n",
              "      <th>ratings_disabled</th>\n",
              "      <th>video_error_or_removed</th>\n",
              "      <th>region</th>\n",
              "      <th>category_title</th>\n",
              "    </tr>\n",
              "  </thead>\n",
              "  <tbody>\n",
              "    <tr>\n",
              "      <th>0</th>\n",
              "      <td>n1WpP7iowLc</td>\n",
              "      <td>17.14.11</td>\n",
              "      <td>EminemVEVO</td>\n",
              "      <td>10</td>\n",
              "      <td>2017-11-10T17:00:03.000Z</td>\n",
              "      <td>17158579</td>\n",
              "      <td>787425</td>\n",
              "      <td>43420</td>\n",
              "      <td>125882</td>\n",
              "      <td>False</td>\n",
              "      <td>False</td>\n",
              "      <td>False</td>\n",
              "      <td>CA</td>\n",
              "      <td>Music</td>\n",
              "    </tr>\n",
              "    <tr>\n",
              "      <th>1</th>\n",
              "      <td>0dBIkQ4Mz1M</td>\n",
              "      <td>17.14.11</td>\n",
              "      <td>iDubbbzTV</td>\n",
              "      <td>23</td>\n",
              "      <td>2017-11-13T17:00:00.000Z</td>\n",
              "      <td>1014651</td>\n",
              "      <td>127794</td>\n",
              "      <td>1688</td>\n",
              "      <td>13030</td>\n",
              "      <td>False</td>\n",
              "      <td>False</td>\n",
              "      <td>False</td>\n",
              "      <td>CA</td>\n",
              "      <td>Comedy</td>\n",
              "    </tr>\n",
              "    <tr>\n",
              "      <th>2</th>\n",
              "      <td>5qpjK5DgCt4</td>\n",
              "      <td>17.14.11</td>\n",
              "      <td>Rudy Mancuso</td>\n",
              "      <td>23</td>\n",
              "      <td>2017-11-12T19:05:24.000Z</td>\n",
              "      <td>3191434</td>\n",
              "      <td>146035</td>\n",
              "      <td>5339</td>\n",
              "      <td>8181</td>\n",
              "      <td>False</td>\n",
              "      <td>False</td>\n",
              "      <td>False</td>\n",
              "      <td>CA</td>\n",
              "      <td>Comedy</td>\n",
              "    </tr>\n",
              "    <tr>\n",
              "      <th>3</th>\n",
              "      <td>d380meD0W0M</td>\n",
              "      <td>17.14.11</td>\n",
              "      <td>nigahiga</td>\n",
              "      <td>24</td>\n",
              "      <td>2017-11-12T18:01:41.000Z</td>\n",
              "      <td>2095828</td>\n",
              "      <td>132239</td>\n",
              "      <td>1989</td>\n",
              "      <td>17518</td>\n",
              "      <td>False</td>\n",
              "      <td>False</td>\n",
              "      <td>False</td>\n",
              "      <td>CA</td>\n",
              "      <td>Entertainment</td>\n",
              "    </tr>\n",
              "    <tr>\n",
              "      <th>4</th>\n",
              "      <td>2Vv-BfVoq4g</td>\n",
              "      <td>17.14.11</td>\n",
              "      <td>Ed Sheeran</td>\n",
              "      <td>10</td>\n",
              "      <td>2017-11-09T11:04:14.000Z</td>\n",
              "      <td>33523622</td>\n",
              "      <td>1634130</td>\n",
              "      <td>21082</td>\n",
              "      <td>85067</td>\n",
              "      <td>False</td>\n",
              "      <td>False</td>\n",
              "      <td>False</td>\n",
              "      <td>CA</td>\n",
              "      <td>Music</td>\n",
              "    </tr>\n",
              "  </tbody>\n",
              "</table>\n",
              "</div>"
            ],
            "text/plain": [
              "      video_id trending_date channel_title  category_id  \\\n",
              "0  n1WpP7iowLc      17.14.11    EminemVEVO           10   \n",
              "1  0dBIkQ4Mz1M      17.14.11     iDubbbzTV           23   \n",
              "2  5qpjK5DgCt4      17.14.11  Rudy Mancuso           23   \n",
              "3  d380meD0W0M      17.14.11      nigahiga           24   \n",
              "4  2Vv-BfVoq4g      17.14.11    Ed Sheeran           10   \n",
              "\n",
              "               publish_time     views    likes  dislikes  comment_count  \\\n",
              "0  2017-11-10T17:00:03.000Z  17158579   787425     43420         125882   \n",
              "1  2017-11-13T17:00:00.000Z   1014651   127794      1688          13030   \n",
              "2  2017-11-12T19:05:24.000Z   3191434   146035      5339           8181   \n",
              "3  2017-11-12T18:01:41.000Z   2095828   132239      1989          17518   \n",
              "4  2017-11-09T11:04:14.000Z  33523622  1634130     21082          85067   \n",
              "\n",
              "   comments_disabled  ratings_disabled  video_error_or_removed region  \\\n",
              "0              False             False                   False     CA   \n",
              "1              False             False                   False     CA   \n",
              "2              False             False                   False     CA   \n",
              "3              False             False                   False     CA   \n",
              "4              False             False                   False     CA   \n",
              "\n",
              "  category_title  \n",
              "0          Music  \n",
              "1         Comedy  \n",
              "2         Comedy  \n",
              "3  Entertainment  \n",
              "4          Music  "
            ]
          },
          "execution_count": 26,
          "metadata": {},
          "output_type": "execute_result"
        }
      ],
      "source": [
        "clean_df = pd.read_csv(r'D:\\Youtube analysis\\clean.csv')\n",
        "clean_df.head()"
      ]
    },
    {
      "cell_type": "code",
      "execution_count": null,
      "metadata": {},
      "outputs": [],
      "source": [
        "\n"
      ]
    },
    {
      "cell_type": "code",
      "execution_count": 28,
      "metadata": {},
      "outputs": [],
      "source": [
        "import mysql.connector\n",
        "\n",
        "\n",
        "# Configuration for MySQL database\n",
        "server = 'localhost'\n",
        "database = 'YouTubeAPI'\n",
        "username = 'root'\n",
        "password = ''\n",
        "\n",
        "# Establish the connection\n",
        "cnxn = mysql.connector.connect(\n",
        "    host=server,\n",
        "    database=database,\n",
        "    user=username,\n",
        "    password=password\n",
        ")\n",
        "\n",
        "# Create a cursor object\n",
        "cursor = cnxn.cursor()\n",
        "\n",
        "# Assuming 'df' is a pandas DataFrame containing your data\n",
        "for index, row in clean_df.iterrows():\n",
        "    query = '''INSERT INTO youtube_stats(video_id, trending_date, channel_title, category_id, publish_time, views, likes, dislikes, comment_count, comments_disabled, ratings_disabled, video_error_or_removed, region, category_title) \n",
        "               VALUES(%s, %s, %s, %s, %s, %s, %s, %s, %s, %s, %s, %s, %s, %s)'''\n",
        "    data = (row.video_id, row.trending_date, row.channel_title, row.category_id, row.publish_time, row.views, row.likes, row.dislikes, row.comment_count, row.comments_disabled, row.ratings_disabled, row.video_error_or_removed, row.region, row.category_title)\n",
        "    cursor.execute(query, data)\n",
        "\n",
        "# Commit the transaction\n",
        "cnxn.commit()\n",
        "\n",
        "# Close the cursor and the connection\n",
        "cursor.close()\n",
        "cnxn.close()\n"
      ]
    }
  ],
  "metadata": {
    "colab": {
      "provenance": []
    },
    "kernelspec": {
      "display_name": "Python 3",
      "name": "python3"
    },
    "language_info": {
      "codemirror_mode": {
        "name": "ipython",
        "version": 3
      },
      "file_extension": ".py",
      "mimetype": "text/x-python",
      "name": "python",
      "nbconvert_exporter": "python",
      "pygments_lexer": "ipython3",
      "version": "3.11.2"
    }
  },
  "nbformat": 4,
  "nbformat_minor": 0
}
